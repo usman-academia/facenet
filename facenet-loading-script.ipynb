{
 "cells": [
  {
   "cell_type": "code",
   "execution_count": null,
   "id": "3d1f1587",
   "metadata": {},
   "outputs": [],
   "source": [
    "import torch\n",
    "import torch.nn as nn\n",
    "import torch.nn.functional as F\n",
    "from PIL import Image\n",
    "from torchvision import transforms, models              # For image transformations and pretrained models"
   ]
  },
  {
   "cell_type": "code",
   "execution_count": 2,
   "id": "5eff5512",
   "metadata": {},
   "outputs": [
    {
     "name": "stderr",
     "output_type": "stream",
     "text": [
      "/home/cognidev-technologies/anaconda3/lib/python3.12/site-packages/torchvision/models/_utils.py:208: UserWarning: The parameter 'pretrained' is deprecated since 0.13 and may be removed in the future, please use 'weights' instead.\n",
      "  warnings.warn(\n",
      "/home/cognidev-technologies/anaconda3/lib/python3.12/site-packages/torchvision/models/_utils.py:223: UserWarning: Arguments other than a weight enum or `None` for 'weights' are deprecated since 0.13 and may be removed in the future. The current behavior is equivalent to passing `weights=ResNet18_Weights.IMAGENET1K_V1`. You can also use `weights=ResNet18_Weights.DEFAULT` to get the most up-to-date weights.\n",
      "  warnings.warn(msg)\n"
     ]
    }
   ],
   "source": [
    "class SiameseNetwork(nn.Module):\n",
    "    def __init__(self, embedding_dim=128):\n",
    "        super().__init__()\n",
    "        # Load a pre-trained ResNet18 model\n",
    "        backbone = models.resnet18(pretrained=True)\n",
    "        modules = list(backbone.children())[:-1]  # Remove the final classification layer\n",
    "        self.feature_extractor = nn.Sequential(*modules)  # Use everything except the final FC layer\n",
    "\n",
    "        # Add a new fully connected layer to project features into a lower-dimensional embedding space\n",
    "        self.fc = nn.Linear(backbone.fc.in_features, embedding_dim)\n",
    "\n",
    "    def forward_once(self, x):\n",
    "        # Pass input through the feature extractor\n",
    "        x = self.feature_extractor(x)\n",
    "        x = x.view(x.size(0), -1)  # Flatten the output\n",
    "        x = self.fc(x)             # Project to embedding_dim\n",
    "        return F.normalize(x, p=2, dim=1)  # Normalize embeddings to have unit L2 norm\n",
    "\n",
    "    def forward(self, datapoint):\n",
    "        # Forward pass for a triplet: anchor (a), positive (p), negative (n)\n",
    "        return self.forward_once(datapoint)\n",
    "\n",
    "transform = transforms.Compose([\n",
    "    transforms.Resize((256, 256)),              # Resize images to 256x256\n",
    "    transforms.CenterCrop(224),                 # Crop the center 224x224 patch (standard size for ResNet)\n",
    "    transforms.ToTensor(),                      # Convert PIL images to PyTorch tensors\n",
    "    transforms.Normalize(mean=[0.485, 0.456, 0.406],  # Normalize using ImageNet statistics\n",
    "                         std=[0.229, 0.224, 0.225]),\n",
    "])\n",
    "\n",
    "device = torch.device(\"cuda\" if torch.cuda.is_available() else \"cpu\")\n",
    "model = SiameseNetwork().to(device)"
   ]
  },
  {
   "cell_type": "code",
   "execution_count": 3,
   "id": "aaa16dd4",
   "metadata": {},
   "outputs": [
    {
     "name": "stdout",
     "output_type": "stream",
     "text": [
      "Model loaded and set to eval mode.\n"
     ]
    }
   ],
   "source": [
    "### Cell 8: Save and Load Model\n",
    "save_path = \"triplet_siamese.pth\"\n",
    "loaded_model = SiameseNetwork().to(device)\n",
    "loaded_model.load_state_dict(torch.load(save_path, map_location=device))\n",
    "loaded_model.eval()\n",
    "print(\"Model loaded and set to eval mode.\")"
   ]
  },
  {
   "cell_type": "code",
   "execution_count": 5,
   "id": "5c29c2bf",
   "metadata": {},
   "outputs": [
    {
     "name": "stdout",
     "output_type": "stream",
     "text": [
      "Image embedding shape: torch.Size([1, 128])\n",
      "Image embedding: tensor([[-0.0532,  0.0547,  0.0531, -0.0663, -0.0696, -0.1357, -0.2329,  0.1162,\n",
      "         -0.0092,  0.0008, -0.1556, -0.0870,  0.0632, -0.0354, -0.1561,  0.1169,\n",
      "          0.1454, -0.1705,  0.1526, -0.0329, -0.1132,  0.0993,  0.0466, -0.0825,\n",
      "          0.0098,  0.1143, -0.0656, -0.0241, -0.0100,  0.0940, -0.0042, -0.0191,\n",
      "          0.0286,  0.0128,  0.0050, -0.0791, -0.1762,  0.0976,  0.2020, -0.1029,\n",
      "         -0.0150, -0.0396, -0.0533,  0.1395,  0.1268,  0.0084, -0.1241, -0.0403,\n",
      "         -0.0827, -0.1633, -0.0154,  0.0653, -0.0143,  0.1328, -0.1496,  0.1572,\n",
      "         -0.1106, -0.1461, -0.0201, -0.0721, -0.0790,  0.1073, -0.0568, -0.0821,\n",
      "          0.0321,  0.0427,  0.0141,  0.0927, -0.0192, -0.0739,  0.2465,  0.1379,\n",
      "          0.0482, -0.0021, -0.0247, -0.0036,  0.0603, -0.1163, -0.0420,  0.0072,\n",
      "          0.0103, -0.0015, -0.0183, -0.1523,  0.0496,  0.0026, -0.0440, -0.0309,\n",
      "          0.0766, -0.0734, -0.0992, -0.0824,  0.0513,  0.0530, -0.0046, -0.0491,\n",
      "         -0.1180, -0.0361,  0.0162,  0.0450,  0.0003, -0.0266,  0.1236, -0.0626,\n",
      "          0.0405, -0.0429, -0.0194,  0.0099,  0.0827,  0.0703,  0.0260,  0.0583,\n",
      "          0.0233,  0.0837,  0.1449,  0.0478, -0.1174,  0.0863,  0.0557, -0.0268,\n",
      "          0.0445,  0.0947, -0.0767, -0.1213, -0.0064,  0.0699,  0.1445,  0.0810]],\n",
      "       device='cuda:0')\n"
     ]
    }
   ],
   "source": [
    "# Load an image and apply transformations\n",
    "image_path = \"img.jpg\"  # Replace with your image path\n",
    "image = Image.open(image_path).convert(\"RGB\")  # Open image and convert to RGB\n",
    "image = transform(image).unsqueeze(0).to(device)  # Apply transformations and add batch dimension\n",
    "with torch.no_grad():\n",
    "    embedding = loaded_model(image)  # Get the embedding for the image\n",
    "    print(\"Image embedding shape:\", embedding.shape)  # Print the shape of the embedding\n",
    "    print(\"Image embedding:\", embedding)  # Print the actual embedding values"
   ]
  }
 ],
 "metadata": {
  "kernelspec": {
   "display_name": "base",
   "language": "python",
   "name": "python3"
  },
  "language_info": {
   "codemirror_mode": {
    "name": "ipython",
    "version": 3
   },
   "file_extension": ".py",
   "mimetype": "text/x-python",
   "name": "python",
   "nbconvert_exporter": "python",
   "pygments_lexer": "ipython3",
   "version": "3.12.7"
  }
 },
 "nbformat": 4,
 "nbformat_minor": 5
}
